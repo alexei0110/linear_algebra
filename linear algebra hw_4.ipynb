{
 "cells": [
  {
   "cell_type": "code",
   "execution_count": 1,
   "id": "3c3b0f83",
   "metadata": {},
   "outputs": [],
   "source": [
    "import numpy as np\n",
    "import scipy\n",
    "import scipy.linalg"
   ]
  },
  {
   "cell_type": "markdown",
   "id": "4f153e3b",
   "metadata": {},
   "source": [
    "## Часть 1\n",
    "### Задание 2"
   ]
  },
  {
   "cell_type": "markdown",
   "id": "488899fe",
   "metadata": {},
   "source": [
    "### а)"
   ]
  },
  {
   "cell_type": "code",
   "execution_count": 2,
   "id": "9fadda8b",
   "metadata": {},
   "outputs": [
    {
     "name": "stdout",
     "output_type": "stream",
     "text": [
      "Матрица A:\n",
      "[[ 3 -1  1]\n",
      " [ 2 -5 -3]\n",
      " [ 1  1 -1]]\n",
      "Расширенная матрица A:\n",
      "[[  3  -1   1   4]\n",
      " [  2  -5  -3 -17]\n",
      " [  1   1  -1   0]]\n"
     ]
    }
   ],
   "source": [
    "A = np.array([[3, -1, 1], [2, -5, -3], [1, 1, -1]])\n",
    "print(f'Матрица A:\\n{A}')\n",
    "\n",
    "A1 = np.array([[3, -1, 1, 4], [2, -5, -3, -17], [1, 1, -1, 0]])\n",
    "print(f'Расширенная матрица A:\\n{A1}')"
   ]
  },
  {
   "cell_type": "code",
   "execution_count": 3,
   "id": "5400ef0a",
   "metadata": {},
   "outputs": [
    {
     "name": "stdout",
     "output_type": "stream",
     "text": [
      "Ранг матрицы A: 3\n",
      "Ранг расширенной матрицы A: 3\n"
     ]
    }
   ],
   "source": [
    "r_A = np.linalg.matrix_rank(A)\n",
    "print(f'Ранг матрицы A: {r_A}')\n",
    "\n",
    "r_A1 = np.linalg.matrix_rank(A1)\n",
    "print(f'Ранг расширенной матрицы A: {r_A1}')"
   ]
  },
  {
   "cell_type": "markdown",
   "id": "af61cc49",
   "metadata": {},
   "source": [
    "Ранг A равен рангу расширенной матрицы A, следовательно, СЛАУ имеет решение. Данные ранги совпадают с числом неизвестных в СЛАУ, следовательно, решение единственное."
   ]
  },
  {
   "cell_type": "markdown",
   "id": "d3c0221a",
   "metadata": {},
   "source": [
    "### б)"
   ]
  },
  {
   "cell_type": "code",
   "execution_count": 4,
   "id": "ab12cfc9",
   "metadata": {},
   "outputs": [
    {
     "name": "stdout",
     "output_type": "stream",
     "text": [
      "Матрица B:\n",
      "[[ 2 -4  6]\n",
      " [ 1 -2  3]\n",
      " [ 3 -6  9]]\n",
      "Расширенная матрица B:\n",
      "[[ 2 -4  6  1]\n",
      " [ 1 -2  3 -2]\n",
      " [ 3 -6  9  5]]\n"
     ]
    }
   ],
   "source": [
    "B = np.array([[2, -4, 6], [1, -2, 3], [3, -6, 9]])\n",
    "print(f'Матрица B:\\n{B}')\n",
    "\n",
    "B1 = np.array([[2, -4, 6, 1], [1, -2, 3, -2], [3, -6, 9, 5]])\n",
    "print(f'Расширенная матрица B:\\n{B1}')"
   ]
  },
  {
   "cell_type": "code",
   "execution_count": 5,
   "id": "6bcee7a9",
   "metadata": {},
   "outputs": [
    {
     "name": "stdout",
     "output_type": "stream",
     "text": [
      "Ранг матрицы B: 1\n",
      "Ранг расширенной матрицы B: 2\n"
     ]
    }
   ],
   "source": [
    "r_B = np.linalg.matrix_rank(B)\n",
    "print(f'Ранг матрицы B: {r_B}')\n",
    "\n",
    "r_B1 = np.linalg.matrix_rank(B1)\n",
    "print(f'Ранг расширенной матрицы B: {r_B1}')"
   ]
  },
  {
   "cell_type": "markdown",
   "id": "0fe44035",
   "metadata": {},
   "source": [
    "Ранг матрицы B меньше ранга расширенной матрицы B. Следовательно, СЛАУ несовместна."
   ]
  },
  {
   "cell_type": "markdown",
   "id": "c9a6f028",
   "metadata": {},
   "source": [
    "### в)"
   ]
  },
  {
   "cell_type": "code",
   "execution_count": 6,
   "id": "f2342070",
   "metadata": {},
   "outputs": [
    {
     "name": "stdout",
     "output_type": "stream",
     "text": [
      "Матрица C:\n",
      "[[ 1  2  5]\n",
      " [ 3  1 -8]]\n",
      "Расширенная матрица :\n",
      "[[ 1  2  5  4]\n",
      " [ 3  1 -8 -2]]\n"
     ]
    }
   ],
   "source": [
    "C = np.array([[1, 2, 5], [3, 1, -8]])\n",
    "print(f'Матрица C:\\n{C}')\n",
    "\n",
    "C1 = C = np.array([[1, 2, 5, 4], [3, 1, -8, -2]])\n",
    "print(f'Расширенная матрица :\\n{C1}')"
   ]
  },
  {
   "cell_type": "code",
   "execution_count": 7,
   "id": "a08355ba",
   "metadata": {},
   "outputs": [
    {
     "name": "stdout",
     "output_type": "stream",
     "text": [
      "Ранг матрицы C: 2\n",
      "Ранг расширенной матрицы C: 2\n"
     ]
    }
   ],
   "source": [
    "r_C = np.linalg.matrix_rank(C)\n",
    "print(f'Ранг матрицы C: {r_C}')\n",
    "\n",
    "r_C1 = np.linalg.matrix_rank(C1)\n",
    "print(f'Ранг расширенной матрицы C: {r_C1}')"
   ]
  },
  {
   "cell_type": "markdown",
   "id": "35814336",
   "metadata": {},
   "source": [
    "Ранг С  равен рангу расширенной матрицы С, следовательно, СЛАУ имееет решение. Данные ранги меньше числа неизвестных в СЛАУ, следовательно, система имеет бесоконечное количество решений."
   ]
  },
  {
   "cell_type": "markdown",
   "id": "d6565573",
   "metadata": {},
   "source": [
    "### Задание 3"
   ]
  },
  {
   "cell_type": "code",
   "execution_count": 8,
   "id": "f8d603f4",
   "metadata": {},
   "outputs": [
    {
     "name": "stdout",
     "output_type": "stream",
     "text": [
      "Матрица A:\n",
      "[[ 1  3 -2  4]\n",
      " [ 0  5  0  1]\n",
      " [ 0  0  3  0]\n",
      " [ 0  0  0  2]]\n",
      "Расширенная матрица A:\n",
      "[[ 1  3 -2  4  3]\n",
      " [ 0  5  0  1  2]\n",
      " [ 0  0  3  0  4]\n",
      " [ 0  0  0  2  1]]\n"
     ]
    }
   ],
   "source": [
    "A = np.array([[1, 3, -2, 4], [0, 5, 0, 1], [0, 0, 3, 0], [0, 0, 0, 2]])\n",
    "print(f'Матрица A:\\n{A}')\n",
    "\n",
    "A1 = np.array([[1, 3, -2, 4, 3], [0, 5, 0, 1, 2], [0, 0, 3, 0, 4], [0, 0, 0, 2, 1]])\n",
    "print(f'Расширенная матрица A:\\n{A1}')"
   ]
  },
  {
   "cell_type": "code",
   "execution_count": 9,
   "id": "598e84da",
   "metadata": {},
   "outputs": [
    {
     "name": "stdout",
     "output_type": "stream",
     "text": [
      "Ранг матрицы A: 4\n",
      "Ранг расширенной матрицы A: 4\n"
     ]
    }
   ],
   "source": [
    "r_A = np.linalg.matrix_rank(A)\n",
    "print(f'Ранг матрицы A: {r_A}')\n",
    "\n",
    "r_A1 = np.linalg.matrix_rank(A1)\n",
    "print(f'Ранг расширенной матрицы A: {r_A1}')"
   ]
  },
  {
   "cell_type": "markdown",
   "id": "cc2bd2cf",
   "metadata": {},
   "source": [
    "Ранг А равен рангу расширенной матрицы А, следовательно, СЛАУ имееет решение. Данные ранги совпадают с числом неизвестных в СЛАУ, следовательно, решение единственное."
   ]
  },
  {
   "cell_type": "markdown",
   "id": "f8cb1b7b",
   "metadata": {},
   "source": [
    "## Часть 2"
   ]
  },
  {
   "cell_type": "markdown",
   "id": "66962dca",
   "metadata": {},
   "source": [
    "### Задание 1"
   ]
  },
  {
   "cell_type": "markdown",
   "id": "f4519a3c",
   "metadata": {},
   "source": [
    "### а)"
   ]
  },
  {
   "cell_type": "code",
   "execution_count": 10,
   "id": "230c1bf6",
   "metadata": {},
   "outputs": [
    {
     "name": "stdout",
     "output_type": "stream",
     "text": [
      "Матрица A:\n",
      "[[ 1 -2]\n",
      " [ 3 -4]]\n",
      "Определитель матрицы A:\n",
      "2\n"
     ]
    }
   ],
   "source": [
    "A = np.array([[1, -2], [3, -4]])\n",
    "print(f'Матрица A:\\n{A}')\n",
    "print(f'Определитель матрицы A:\\n{np.linalg.det(A):.0f}')"
   ]
  },
  {
   "cell_type": "code",
   "execution_count": 11,
   "id": "3868edb6",
   "metadata": {},
   "outputs": [
    {
     "name": "stdout",
     "output_type": "stream",
     "text": [
      "Матрица A1:\n",
      "[[ 1 -2]\n",
      " [ 7 -4]]\n",
      "Определитель матрицы A1:\n",
      "10\n"
     ]
    }
   ],
   "source": [
    "A1 = np.array([[1, -2], [7, -4]])\n",
    "print(f'Матрица A1:\\n{A1}')\n",
    "print(f'Определитель матрицы A1:\\n{np.linalg.det(A1):.0f}')"
   ]
  },
  {
   "cell_type": "code",
   "execution_count": 12,
   "id": "94002e06",
   "metadata": {},
   "outputs": [
    {
     "name": "stdout",
     "output_type": "stream",
     "text": [
      "Матрица A2:\n",
      "[[1 1]\n",
      " [3 7]]\n",
      "Определитель матрицы A2:\n",
      "4\n"
     ]
    }
   ],
   "source": [
    "A2 = np.array([[1, 1], [3, 7]])\n",
    "print(f'Матрица A2:\\n{A2}')\n",
    "print(f'Определитель матрицы A2:\\n{np.linalg.det(A2):.0f}')"
   ]
  },
  {
   "cell_type": "markdown",
   "id": "6b193c47",
   "metadata": {},
   "source": [
    "Ответ: x1 = 10/2 = 5, x2 = 4/2 = 2 "
   ]
  },
  {
   "cell_type": "markdown",
   "id": "569475b1",
   "metadata": {},
   "source": [
    "### б)"
   ]
  },
  {
   "cell_type": "code",
   "execution_count": 13,
   "id": "64d79f16",
   "metadata": {},
   "outputs": [
    {
     "name": "stdout",
     "output_type": "stream",
     "text": [
      "Матрица A:\n",
      "[[ 2 -1  5]\n",
      " [ 1  1 -3]\n",
      " [ 2  4  1]]\n",
      "Определитель матрицы A:\n",
      "43\n"
     ]
    }
   ],
   "source": [
    "a = np.array([[2, -1, 5], [1, 1, -3], [2, 4, 1]])\n",
    "print(f'Матрица A:\\n{a}')\n",
    "print(f'Определитель матрицы A:\\n{np.linalg.det(a):.0f}')"
   ]
  },
  {
   "cell_type": "code",
   "execution_count": 14,
   "id": "d2933370",
   "metadata": {},
   "outputs": [
    {
     "name": "stdout",
     "output_type": "stream",
     "text": [
      "Матрица A1:\n",
      "[[10 -1  5]\n",
      " [-2  1 -3]\n",
      " [ 1  4  1]]\n",
      "Определитель матрицы A1:\n",
      "86\n"
     ]
    }
   ],
   "source": [
    "a1 = np.array([[10, -1, 5], [-2, 1, -3], [1, 4, 1]])\n",
    "print(f'Матрица A1:\\n{a1}')\n",
    "print(f'Определитель матрицы A1:\\n{np.linalg.det(a1):.0f}')"
   ]
  },
  {
   "cell_type": "code",
   "execution_count": 15,
   "id": "c9dbebe4",
   "metadata": {},
   "outputs": [
    {
     "name": "stdout",
     "output_type": "stream",
     "text": [
      "Матрица A2:\n",
      "[[ 2 10  5]\n",
      " [ 1 -2 -3]\n",
      " [ 2  1  1]]\n",
      "Определитель матрицы A2:\n",
      "-43\n"
     ]
    }
   ],
   "source": [
    "a2 = np.array([[2, 10, 5], [1, -2, -3], [2, 1, 1]])\n",
    "print(f'Матрица A2:\\n{a2}')\n",
    "print(f'Определитель матрицы A2:\\n{np.linalg.det(a2):.0f}')"
   ]
  },
  {
   "cell_type": "code",
   "execution_count": 16,
   "id": "60844d23",
   "metadata": {},
   "outputs": [
    {
     "name": "stdout",
     "output_type": "stream",
     "text": [
      "Матрица A3:\n",
      "[[ 2 -1 10]\n",
      " [ 1  1 -2]\n",
      " [ 2  4  1]]\n",
      "Определитель матрицы A3:\n",
      "43\n"
     ]
    }
   ],
   "source": [
    "a3 = np.array([[2, -1, 10], [1, 1, -2], [2, 4, 1]])\n",
    "print(f'Матрица A3:\\n{a3}')\n",
    "print(f'Определитель матрицы A3:\\n{np.linalg.det(a3):.0f}')"
   ]
  },
  {
   "cell_type": "markdown",
   "id": "093a6f6b",
   "metadata": {},
   "source": [
    "Ответ: x1 = 86/43 = 2, x2 = -43/43 = -1, x3 = 43/43 = 1 "
   ]
  },
  {
   "cell_type": "markdown",
   "id": "e532354d",
   "metadata": {},
   "source": [
    "### Задание 3"
   ]
  },
  {
   "cell_type": "code",
   "execution_count": 17,
   "id": "e65d4530",
   "metadata": {},
   "outputs": [
    {
     "name": "stdout",
     "output_type": "stream",
     "text": [
      "Матрица a:\n",
      "[[ 2  1  3]\n",
      " [11  7  5]\n",
      " [ 9  8  4]]\n"
     ]
    }
   ],
   "source": [
    "a = np.array([[2, 1, 3], [11, 7, 5], [9, 8, 4]])\n",
    "print(f'Матрица a:\\n{a}')"
   ]
  },
  {
   "cell_type": "code",
   "execution_count": 18,
   "id": "6cce99c5",
   "metadata": {},
   "outputs": [
    {
     "name": "stdout",
     "output_type": "stream",
     "text": [
      "Матрица P:\n",
      "[[0. 0. 1.]\n",
      " [1. 0. 0.]\n",
      " [0. 1. 0.]]\n",
      "Матрица L:\n",
      "[[ 1.          0.          0.        ]\n",
      " [ 0.81818182  1.          0.        ]\n",
      " [ 0.18181818 -0.12        1.        ]]\n",
      "Матрица U:\n",
      "[[11.          7.          5.        ]\n",
      " [ 0.          2.27272727 -0.09090909]\n",
      " [ 0.          0.          2.08      ]]\n"
     ]
    }
   ],
   "source": [
    "P, L, U = scipy.linalg.lu(a)\n",
    "\n",
    "print(f'Матрица P:\\n{P}')\n",
    "print(f'Матрица L:\\n{L}')\n",
    "print(f'Матрица U:\\n{U}')"
   ]
  },
  {
   "cell_type": "code",
   "execution_count": 19,
   "id": "9fad6870",
   "metadata": {},
   "outputs": [
    {
     "data": {
      "text/plain": [
       "array([ 1, -6, -5])"
      ]
     },
     "execution_count": 19,
     "metadata": {},
     "output_type": "execute_result"
    }
   ],
   "source": [
    "b = np.array([1, -6, -5])\n",
    "b"
   ]
  },
  {
   "cell_type": "markdown",
   "id": "b07c333c",
   "metadata": {},
   "source": [
    "Решим систему Ly = b:"
   ]
  },
  {
   "cell_type": "code",
   "execution_count": 20,
   "id": "77987af7",
   "metadata": {},
   "outputs": [
    {
     "data": {
      "text/plain": [
       "array([ 1.        , -6.81818182, -6.        ])"
      ]
     },
     "execution_count": 20,
     "metadata": {},
     "output_type": "execute_result"
    }
   ],
   "source": [
    "y = np.linalg.solve(L, b)\n",
    "y"
   ]
  },
  {
   "cell_type": "markdown",
   "id": "c500f755",
   "metadata": {},
   "source": [
    "Решим систему Ux= y:"
   ]
  },
  {
   "cell_type": "code",
   "execution_count": 21,
   "id": "df4d793e",
   "metadata": {},
   "outputs": [
    {
     "data": {
      "text/plain": [
       "array([ 3.38461538, -3.11538462, -2.88461538])"
      ]
     },
     "execution_count": 21,
     "metadata": {},
     "output_type": "execute_result"
    }
   ],
   "source": [
    "x = np.linalg.solve(U, y)\n",
    "x"
   ]
  },
  {
   "cell_type": "markdown",
   "id": "c579a04b",
   "metadata": {},
   "source": [
    "Осуществим проверку, подставив полученные значения в исходную систему:"
   ]
  },
  {
   "cell_type": "code",
   "execution_count": 22,
   "id": "c902f966",
   "metadata": {},
   "outputs": [
    {
     "data": {
      "text/plain": [
       "array([-5.,  1., -6.])"
      ]
     },
     "execution_count": 22,
     "metadata": {},
     "output_type": "execute_result"
    }
   ],
   "source": [
    "np.dot(a, x)"
   ]
  },
  {
   "cell_type": "markdown",
   "id": "6814ac15",
   "metadata": {},
   "source": [
    "### Задание 4"
   ]
  },
  {
   "cell_type": "code",
   "execution_count": 23,
   "id": "48a42416",
   "metadata": {},
   "outputs": [
    {
     "name": "stdout",
     "output_type": "stream",
     "text": [
      "Матрица a:\n",
      "[[ 81 -45  45]\n",
      " [-45  50 -15]\n",
      " [ 45 -15  38]]\n"
     ]
    }
   ],
   "source": [
    "a = np.array([[81, -45, 45], [-45, 50, -15], [45, -15, 38]])\n",
    "print(f'Матрица a:\\n{a}')"
   ]
  },
  {
   "cell_type": "code",
   "execution_count": 24,
   "id": "e27c704a",
   "metadata": {},
   "outputs": [
    {
     "data": {
      "text/plain": [
       "array([[ 9.,  0.,  0.],\n",
       "       [-5.,  5.,  0.],\n",
       "       [ 5.,  2.,  3.]])"
      ]
     },
     "execution_count": 24,
     "metadata": {},
     "output_type": "execute_result"
    }
   ],
   "source": [
    "L = np.linalg.cholesky(a)\n",
    "L"
   ]
  },
  {
   "cell_type": "code",
   "execution_count": 25,
   "id": "91cfbf65",
   "metadata": {},
   "outputs": [
    {
     "data": {
      "text/plain": [
       "array([ 531, -460,  193])"
      ]
     },
     "execution_count": 25,
     "metadata": {},
     "output_type": "execute_result"
    }
   ],
   "source": [
    "b = np.array([531, -460, 193])\n",
    "b"
   ]
  },
  {
   "cell_type": "markdown",
   "id": "1a961aa6",
   "metadata": {},
   "source": [
    "Решим систему Ly = b:"
   ]
  },
  {
   "cell_type": "code",
   "execution_count": 26,
   "id": "ddb01f2d",
   "metadata": {},
   "outputs": [
    {
     "data": {
      "text/plain": [
       "array([ 59., -33., -12.])"
      ]
     },
     "execution_count": 26,
     "metadata": {},
     "output_type": "execute_result"
    }
   ],
   "source": [
    "y = np.linalg.solve(L, b)\n",
    "y"
   ]
  },
  {
   "cell_type": "markdown",
   "id": "ea687dd5",
   "metadata": {},
   "source": [
    "Решим систему LTx = y:"
   ]
  },
  {
   "cell_type": "code",
   "execution_count": 27,
   "id": "3f0e78a8",
   "metadata": {},
   "outputs": [
    {
     "data": {
      "text/plain": [
       "array([ 6., -5., -4.])"
      ]
     },
     "execution_count": 27,
     "metadata": {},
     "output_type": "execute_result"
    }
   ],
   "source": [
    "x = np.linalg.solve(L.T, y)\n",
    "x"
   ]
  },
  {
   "cell_type": "markdown",
   "id": "b3dfb318",
   "metadata": {},
   "source": [
    "Осуществим проверку, подставив полученные значения в исходную систему:"
   ]
  },
  {
   "cell_type": "code",
   "execution_count": 29,
   "id": "ff727fd6",
   "metadata": {},
   "outputs": [
    {
     "data": {
      "text/plain": [
       "array([ 531., -460.,  193.])"
      ]
     },
     "execution_count": 29,
     "metadata": {},
     "output_type": "execute_result"
    }
   ],
   "source": [
    "np.dot(a, x)"
   ]
  },
  {
   "cell_type": "markdown",
   "id": "1b2b6a92",
   "metadata": {},
   "source": [
    "### Задание 5"
   ]
  },
  {
   "cell_type": "markdown",
   "id": "243ec350",
   "metadata": {},
   "source": [
    "Напишите на Python программу с реализацией одного из изученных алгоритмов решения СЛАУ."
   ]
  },
  {
   "cell_type": "code",
   "execution_count": 30,
   "id": "a6ec8fc5",
   "metadata": {},
   "outputs": [
    {
     "name": "stdout",
     "output_type": "stream",
     "text": [
      "Матрица A:\n",
      "[[ 2 -1  5]\n",
      " [ 1  1 -3]\n",
      " [ 2  4  1]]\n"
     ]
    }
   ],
   "source": [
    "a = np.array([[2, -1, 5], [1, 1, -3], [2, 4, 1]])\n",
    "print(f'Матрица A:\\n{a}')"
   ]
  },
  {
   "cell_type": "code",
   "execution_count": 31,
   "id": "a96f14f7",
   "metadata": {},
   "outputs": [
    {
     "data": {
      "text/plain": [
       "array([10, -2,  1])"
      ]
     },
     "execution_count": 31,
     "metadata": {},
     "output_type": "execute_result"
    }
   ],
   "source": [
    "b = np.array([10, -2, 1])\n",
    "b"
   ]
  },
  {
   "cell_type": "code",
   "execution_count": 32,
   "id": "2c4c0afd",
   "metadata": {},
   "outputs": [
    {
     "data": {
      "text/plain": [
       "[2.0000000000000018, -1.0000000000000009, 1.0]"
      ]
     },
     "execution_count": 32,
     "metadata": {},
     "output_type": "execute_result"
    }
   ],
   "source": [
    "def Cramer(A, B):\n",
    "    m = len(A)\n",
    "    det = np.linalg.det(A)\n",
    "    r = []\n",
    "    for i in range(m):\n",
    "        VM = np.copy(A)\n",
    "        VM[:,i]=B\n",
    "        r.append(np.linalg.det(VM)/det)\n",
    "    return r\n",
    "x = Cramer(a, b)\n",
    "x"
   ]
  },
  {
   "cell_type": "markdown",
   "id": "b3df1ee7",
   "metadata": {},
   "source": [
    "Осуществим проверку, подставив полученные значения в исходную систему:"
   ]
  },
  {
   "cell_type": "code",
   "execution_count": 33,
   "id": "0bf7bc5d",
   "metadata": {},
   "outputs": [
    {
     "data": {
      "text/plain": [
       "array([10., -2.,  1.])"
      ]
     },
     "execution_count": 33,
     "metadata": {},
     "output_type": "execute_result"
    }
   ],
   "source": [
    "np.dot(a, x)"
   ]
  },
  {
   "cell_type": "code",
   "execution_count": null,
   "id": "a9308384",
   "metadata": {},
   "outputs": [],
   "source": []
  }
 ],
 "metadata": {
  "kernelspec": {
   "display_name": "Python 3 (ipykernel)",
   "language": "python",
   "name": "python3"
  },
  "language_info": {
   "codemirror_mode": {
    "name": "ipython",
    "version": 3
   },
   "file_extension": ".py",
   "mimetype": "text/x-python",
   "name": "python",
   "nbconvert_exporter": "python",
   "pygments_lexer": "ipython3",
   "version": "3.9.7"
  }
 },
 "nbformat": 4,
 "nbformat_minor": 5
}
